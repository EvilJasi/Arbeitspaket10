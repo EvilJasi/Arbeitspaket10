{
 "cells": [
  {
   "cell_type": "code",
   "execution_count": 1,
   "id": "8b0d652e-5d2b-414c-8177-0804ca401d8a",
   "metadata": {},
   "outputs": [],
   "source": [
    "import ipywidgets as widgets\n",
    "from ipywidgets import interactive\n",
    "from ipywidgets import Box\n",
    "\n",
    "import matplotlib.pyplot as plt\n",
    "import numpy as np\n",
    "import math\n",
    "\n",
    "from IPython.display import HTML\n",
    "from IPython.display import IFrame\n",
    "\n",
    "import builtins"
   ]
  },
  {
   "cell_type": "code",
   "execution_count": 2,
   "id": "9fbc87ef-b740-44ba-b1c1-a04f41ddbf38",
   "metadata": {},
   "outputs": [
    {
     "data": {
      "application/vnd.jupyter.widget-view+json": {
       "model_id": "46779307432a476a8447916d0692b792",
       "version_major": 2,
       "version_minor": 0
      },
      "text/plain": [
       "A Jupyter Widget"
      ]
     },
     "metadata": {},
     "output_type": "display_data"
    }
   ],
   "source": [
    "file = builtins.open(\"Bilder/Logo.png\", \"rb\")\n",
    "image = file.read()\n",
    "bild_Logo = widgets.Image(\n",
    "    value=image,\n",
    "    format='png',\n",
    "    width=200,\n",
    "   #height=128,\n",
    "    )\n",
    "bild_Logo"
   ]
  },
  {
   "cell_type": "markdown",
   "id": "30edf4b0-aae0-411e-bcad-9446bf8be070",
   "metadata": {},
   "source": [
    "# <span style=\"font-family:Century Gothic;color:DarkCyan\">Arbeitspaket 10</span>"
   ]
  },
  {
   "cell_type": "markdown",
   "id": "d77bb09a-805c-4bfd-9a2a-839c5f38db13",
   "metadata": {},
   "source": [
    "## <span style=\"font-family:Century Gothic;color:DarkCyan\">Aufgabe 1</span>"
   ]
  },
  {
   "cell_type": "markdown",
   "id": "f67b42ae-d18e-43d4-925f-b8c07fed4092",
   "metadata": {},
   "source": [
    "Die Meltzer-Richard-Hypothese ist ein von <a href=\"https://www.jstor.org/stable/1830813?seq=1#metadata_info_tab_contents\">Meltzer & Richard (1981)</a> entwickeltes theoretisches Modell, das Umverteilungspräferenzen von Individuen erklären soll. Umverteilungspräferenzen werden hierbei durch den von Individuum $i$ präferierten Steuersatz $t$ abgebildet. "
   ]
  },
  {
   "cell_type": "markdown",
   "id": "69598a3e-befa-4272-b0a1-d9ae343ff362",
   "metadata": {},
   "source": [
    "> **Welchen Faktor erachten Meltzer & Richard als maßgeblich für die Umverteilungspräferenzen eines Individuums?**"
   ]
  },
  {
   "cell_type": "code",
   "execution_count": 3,
   "id": "5824c75e-fa25-4c1a-b506-d91bf1b0081f",
   "metadata": {},
   "outputs": [],
   "source": [
    "opinion_MR = widgets.RadioButtons(\n",
    "    options=['Bildungsniveau','Einkommensposition','Ungleichheitsaversion'],\n",
    "    value=None,\n",
    "    description='Faktoren',\n",
    "    disabled=False\n",
    ")\n",
    "\n",
    "button_MR = widgets.Button(\n",
    "    description='Auswertung',\n",
    "    disabled=False,\n",
    "    button_style='', # 'success', 'info', 'warning', 'danger' or ''\n",
    "    tooltip='Bitte klicken.',\n",
    "    #icon='check' # (FontAwesome names without the `fa-` prefix)\n",
    ")\n",
    "\n",
    "# define function\n",
    "def check(button_MR):\n",
    "  if opinion_MR.value == 'Einkommensposition':\n",
    "    button_MR.button_style = 'success'\n",
    "    button_MR.description = 'Richtig'\n",
    "  else:\n",
    "    button_MR.button_style = 'danger'\n",
    "    button_MR.description = 'Leider Falsch'\n",
    "\n",
    "# set function as on_click on button\n",
    "button_MR.on_click(check)"
   ]
  },
  {
   "cell_type": "code",
   "execution_count": 4,
   "id": "f8e725af-a3fa-4f9d-a59d-bee2cb9660d9",
   "metadata": {},
   "outputs": [
    {
     "data": {
      "application/vnd.jupyter.widget-view+json": {
       "model_id": "d445149412f3435aa76ac21106ee4a5b",
       "version_major": 2,
       "version_minor": 0
      },
      "text/plain": [
       "A Jupyter Widget"
      ]
     },
     "metadata": {},
     "output_type": "display_data"
    },
    {
     "data": {
      "application/vnd.jupyter.widget-view+json": {
       "model_id": "c903dbc07b8d4b08899d434606f680dd",
       "version_major": 2,
       "version_minor": 0
      },
      "text/plain": [
       "A Jupyter Widget"
      ]
     },
     "metadata": {},
     "output_type": "display_data"
    }
   ],
   "source": [
    "display(opinion_MR)\n",
    "display(button_MR)"
   ]
  },
  {
   "cell_type": "markdown",
   "id": "ed50af13-7415-4732-9315-f4d407f15b79",
   "metadata": {},
   "source": [
    "Dieser Zusammenhang wird in der untenstehenden Grafik verdeutlicht.\n",
    "\n",
    "> **Nutzen Sie den Slider, um für Individuen mit verschiedenen Positionen in der Einkommensverteilung $x$ den von diesem Individuum präferierten Steuersatz $t$ zu bestimmen.**"
   ]
  },
  {
   "cell_type": "code",
   "execution_count": 5,
   "id": "a3163dec-f3a1-46db-bdb0-e535e7b1f84a",
   "metadata": {},
   "outputs": [
    {
     "data": {
      "application/vnd.jupyter.widget-view+json": {
       "model_id": "121cafc59c9a4e63a1f1e71b141c3577",
       "version_major": 2,
       "version_minor": 0
      },
      "text/plain": [
       "A Jupyter Widget"
      ]
     },
     "metadata": {},
     "output_type": "display_data"
    }
   ],
   "source": [
    "%matplotlib inline\n",
    "\n",
    "def f(x):\n",
    "    plt.figure(2)\n",
    "    #x = np.linspace(0, 100, num=100)\n",
    "    z = [0,20,50,100]\n",
    "    y = [80,80,50,0]\n",
    "    plt.plot(z,y,color=\"maroon\")\n",
    "    plt.vlines(x, 0, 100-1*x,colors='k',linestyles='dotted',color=\"maroon\", alpha=0.5)\n",
    "    plt.hlines(100-1*x,0,x,colors='k',linestyles='dotted',color=\"maroon\", alpha=0.5)\n",
    "    plt.ylim(0, 100)\n",
    "    plt.xlabel(\"Einkommensposition $x$\")\n",
    "    plt.margins(x=0)\n",
    "    plt.ylabel(\"Präferierter Steuersatz $t$\")    \n",
    "    plt.show()\n",
    "\n",
    "    \n",
    "interactive_plot = interactive(f, x=(20, 80, 10))\n",
    "output = interactive_plot.children[-1]\n",
    "interactive_plot"
   ]
  },
  {
   "cell_type": "markdown",
   "id": "3bdf37bc-739e-4975-83b5-188b7a3a4514",
   "metadata": {},
   "source": [
    "> **Wie lautet der präferierte Steuersatz $t$ des Individuums mit Medianeinkommen?**"
   ]
  },
  {
   "cell_type": "code",
   "execution_count": 6,
   "id": "bbcef631-23e0-4231-b8d2-5038e123970d",
   "metadata": {},
   "outputs": [],
   "source": [
    "text_Median = widgets.BoundedIntText(\n",
    "    value=0,\n",
    "    min=0,\n",
    "    max=100,\n",
    "    step=1,\n",
    "    description='Prozent',\n",
    "    disabled=False\n",
    ")\n",
    "\n",
    "\n",
    "button_Median = widgets.Button(\n",
    "    description='Auswertung',\n",
    "    disabled=False,\n",
    "    button_style='', # 'success', 'info', 'warning', 'danger' or ''\n",
    "    tooltip='Bitte klicken.',\n",
    "    #icon='check' # (FontAwesome names without the `fa-` prefix)\n",
    ")\n",
    "\n",
    "\n",
    "# define function\n",
    "def check(button_Median):\n",
    "  if text_Median.value == 50:\n",
    "    button_Median.button_style = 'success'\n",
    "    button_Median.description = 'Richtig!'\n",
    "  else:\n",
    "    button_Median.button_style = 'danger'\n",
    "    button_Median.description = 'Leider falsch.'\n",
    "\n",
    "# set function as on_click on button\n",
    "button_Median.on_click(check)"
   ]
  },
  {
   "cell_type": "code",
   "execution_count": 7,
   "id": "433b7e88-7fb1-4c44-bab8-6e40d0aae0fd",
   "metadata": {},
   "outputs": [
    {
     "data": {
      "application/vnd.jupyter.widget-view+json": {
       "model_id": "276d9b65781f4309b5c97f3ebc82c2c2",
       "version_major": 2,
       "version_minor": 0
      },
      "text/plain": [
       "A Jupyter Widget"
      ]
     },
     "metadata": {},
     "output_type": "display_data"
    }
   ],
   "source": [
    "# nebeneinander in Box anzeigen\n",
    "items = [text_Median, button_Median]\n",
    "box_Median = Box(children=items)\n",
    "display(box_Median) # <- this one command displays all children"
   ]
  },
  {
   "cell_type": "markdown",
   "id": "6df1cc34-8fb2-420d-93a8-4735a4e25da7",
   "metadata": {},
   "source": [
    "> **Wie verändert sich der präferierte Steuersatz $t$ wenn sich die Position von Individuum $i$ in der Einkommensverteilung verbessert?**"
   ]
  },
  {
   "cell_type": "code",
   "execution_count": 8,
   "id": "2cd141a2-b2d2-4644-90db-d5a7cea36c0d",
   "metadata": {},
   "outputs": [],
   "source": [
    "opinion_final = widgets.RadioButtons(\n",
    "    options=['Der Steuersatz steigt.','Der Steuersatz sinkt.'],\n",
    "    value=None,\n",
    "    description='',\n",
    "    disabled=False,\n",
    ")\n",
    "\n",
    "button_final = widgets.Button(\n",
    "    description='Auswertung',\n",
    "    disabled=False,\n",
    "    button_style='', # 'success', 'info', 'warning', 'danger' or ''\n",
    "    tooltip='Bitte klicken.',\n",
    "    #icon='check' # (FontAwesome names without the `fa-` prefix)\n",
    ")\n",
    "\n",
    "\n",
    "# define function\n",
    "def check(button_instance):\n",
    "  if opinion_final.value == 'Der Steuersatz sinkt.':\n",
    "    button_final.button_style = 'success'\n",
    "    button_final.description = 'Richtig!'\n",
    "  else:\n",
    "    button_final.button_style = 'danger'\n",
    "    button_final.description = 'Leider falsch.'\n",
    "\n",
    "# set function as on_click on button\n",
    "button_final.on_click(check)\n",
    "\n"
   ]
  },
  {
   "cell_type": "code",
   "execution_count": 9,
   "id": "b8cd205c-dbf7-4994-9da7-2e1ff0f7aa1d",
   "metadata": {},
   "outputs": [
    {
     "data": {
      "application/vnd.jupyter.widget-view+json": {
       "model_id": "371d532ade614af0942fc78ac217fdf5",
       "version_major": 2,
       "version_minor": 0
      },
      "text/plain": [
       "A Jupyter Widget"
      ]
     },
     "metadata": {},
     "output_type": "display_data"
    }
   ],
   "source": [
    "items = [opinion_final, button_final]\n",
    "box_final = Box(children=items)\n",
    "display(box_final) # <- this one command displays all children"
   ]
  },
  {
   "cell_type": "markdown",
   "id": "5bc93276-6843-4a0b-9405-b95b1a3b073f",
   "metadata": {},
   "source": [
    "# <span style=\"font-family:Century Gothic;color:DarkCyan\">Aufgabe 2</span>\n",
    "\n",
    "### <span style=\"font-family:Century Gothic;color:DarkCyan\">Aufgabe 2.1: Umfrageexperiment</span>\n",
    "\n",
    "<a href=\"https://direct.mit.edu/rest/article/99/2/201/58387/Richer-and-Holier-Than-Thou-The-Effect-of-Relative\">Karadja, Mollerstrom und Seim (2017)</a> untersuchen, wie sich individuelle Umverteilungspräferenzen verändern, wenn Individuen über Ihre tatsächliche Position in der Einkommensverteilung informiert werden. Gehen Sie davon aus, sie verfügen als Single über ein Nettoeinkommen von 19.464€ im Jahr. Bitte beantworten Sie die folgende Frage aus der Umfrage von Karadja, Mollerstrom und Seim (2017).\n",
    "***\n",
    "*Stellen Sie sich vor, das Einkommen aller Menschen in Deutschland würde auf einer Skala von 1 bis 10 aufgeteilt wobei 1 das geringste und 10 das höchste Einkommen darstellt.*\n",
    "\n",
    "> ***Wo würden sie Ihr Einkommen im vergangenen Jahr (d.h. 19.464€) auf dieser Skala einschätzen?***"
   ]
  },
  {
   "cell_type": "code",
   "execution_count": 10,
   "id": "4e8cddfe-1648-4846-ae05-6dc0b93e4073",
   "metadata": {},
   "outputs": [
    {
     "data": {
      "application/vnd.jupyter.widget-view+json": {
       "model_id": "17efeff07b4946f299365d108ae3b030",
       "version_major": 2,
       "version_minor": 0
      },
      "text/plain": [
       "A Jupyter Widget"
      ]
     },
     "metadata": {},
     "output_type": "display_data"
    }
   ],
   "source": [
    "scale_KMS = widgets.IntSlider(\n",
    "    value=5,\n",
    "    min=1,\n",
    "    max=10,\n",
    "    step=1,\n",
    "    description='Skala',\n",
    "    disabled=False,\n",
    "    continuous_update=False,\n",
    "    orientation='horizontal',\n",
    "    readout=True,\n",
    "    readout_format='d'\n",
    ")\n",
    "\n",
    "display(scale_KMS)"
   ]
  },
  {
   "cell_type": "markdown",
   "id": "7b4961f7-e00b-4c0d-a471-6db06e00c70b",
   "metadata": {},
   "source": [
    "***\n",
    "Nach Beantwortung dieser Frage wird die Hälfte der Teilnehmer des Umfrageexperiments über ihre tatsächliche Position in der Einkommensverteilung informiert.\n",
    "\n",
    "> **Machen Sie sich mit dem Umfragedesign vertraut und schauen Sie sich im Anschluss die Reiter für Behandlungs- und Kontrollgruppe an.**\n"
   ]
  },
  {
   "cell_type": "code",
   "execution_count": 11,
   "id": "fc823e84-966c-4bdd-834c-4b9f156ed540",
   "metadata": {},
   "outputs": [
    {
     "data": {
      "application/vnd.jupyter.widget-view+json": {
       "model_id": "23b27c636d4c4631b8445117b15bdc61",
       "version_major": 2,
       "version_minor": 0
      },
      "text/plain": [
       "A Jupyter Widget"
      ]
     },
     "metadata": {},
     "output_type": "display_data"
    }
   ],
   "source": [
    "## Bilder einfügen\n",
    "file = builtins.open(\"Bilder/Design.png\", \"rb\")\n",
    "image = file.read()\n",
    "bild_Design = widgets.Image(\n",
    "    value=image,\n",
    "    format='png',\n",
    "    #width=128,\n",
    "    #height=128,\n",
    "    )\n",
    "bild_Design\n",
    "\n",
    "## Bilder einfügen\n",
    "file = builtins.open(\"Bilder/Info_2.png\", \"rb\")\n",
    "image = file.read()\n",
    "bild_T = widgets.Image(\n",
    "    value=image,\n",
    "    format='png',\n",
    "    #width=128,\n",
    "    #height=128,\n",
    "    )\n",
    "bild_T\n",
    "\n",
    "gruppe_K = widgets.Label(\n",
    "        value=\"Keine weiteren Informationen.\",\n",
    "        placeholder='Some LaTeX',\n",
    "        description='Some LaTeX',\n",
    "        disabled=False\n",
    "    )\n",
    "gruppe_K\n",
    "\n",
    "\n",
    "tab_nest = widgets.Tab()\n",
    "tab_nest.children = [bild_Design,bild_T,gruppe_K]\n",
    "tab_nest.set_title(0, 'Umfragedesign')\n",
    "tab_nest.set_title(1, 'Behandlungsgruppe')\n",
    "tab_nest.set_title(2, 'Kontrollgruppe')\n",
    "tab_nest\n"
   ]
  },
  {
   "cell_type": "markdown",
   "id": "993cdfdb-5157-4cd5-97de-bda4d13b629b",
   "metadata": {},
   "source": [
    "### <span style=\"font-family:Century Gothic;color:DarkCyan\">Aufgabe 2.2: Wahrgenommene vs. tatsächliche Position in der Einkommensverteilung</span>\n",
    "\n",
    "Anhand der untenstehenden Grafik können Sie sehen wie weit Ihre vorherige Schätzung von der tatsächlichen Position in der Einkommensverteilung abweicht.\n",
    "\n",
    "> **Nutzen Sie zunächst den Slider, um Ihren geschätzten Wert aus Aufgabe 2.1 einzustellen. Nutzen Sie dann den Slider um den Wert für ein Individuum einzustellen, dass seine tatsächliche Position überschätzt hat. Nutzen Sie im Anschluss den Slider um den Wert für ein Individuum einzustellen, dass seine Position korrekt eingeschätzt hat.**"
   ]
  },
  {
   "cell_type": "code",
   "execution_count": 12,
   "id": "aeb253b4-bd41-4d9f-ba09-25458ce8064a",
   "metadata": {},
   "outputs": [
    {
     "data": {
      "application/vnd.jupyter.widget-view+json": {
       "model_id": "85e97d2e5f064f4eb159538a0990dc07",
       "version_major": 2,
       "version_minor": 0
      },
      "text/plain": [
       "A Jupyter Widget"
      ]
     },
     "metadata": {},
     "output_type": "display_data"
    }
   ],
   "source": [
    "%matplotlib inline\n",
    "\n",
    "def f(W):\n",
    "    plt.figure(2)\n",
    "    y = [30]\n",
    "    z= [0,100]\n",
    "    v= [0,100]\n",
    "    plt.plot(z,v,color=\"Darkcyan\", alpha=0.5)\n",
    "    plt.scatter(y,W,color=\"Darkcyan\")\n",
    "    plt.ylim(0, 100)\n",
    "    plt.xlim(0, 100)\n",
    "    plt.xlabel(\"Tatsächliche Einkommensposition $Y$\")\n",
    "    plt.margins(x=0)\n",
    "    plt.ylabel(\"Wahrgenommene Einkommensposition $W$\")    \n",
    "    plt.show()\n",
    "\n",
    "    \n",
    "interactive_plot = interactive(f, W=(0, 100, 10))\n",
    "output = interactive_plot.children[-1]\n",
    "interactive_plot"
   ]
  },
  {
   "cell_type": "markdown",
   "id": "34d25399-e9d0-4ee9-b3bf-b540046bc76c",
   "metadata": {},
   "source": [
    "### <span style=\"font-family:Century Gothic;color:DarkCyan\">Aufgabe 2.3: Umverteilungspräferenzen</span>\n",
    "Wie Sie der Studie von <a href=\"https://direct.mit.edu/rest/article/99/2/201/58387/Richer-and-Holier-Than-Thou-The-Effect-of-Relative\">Karadja, Mollerstrom und Seim (2017)</a> entnehmen können, unterschätzen die meisten Befragten Ihre Position in der Einkommensverteilung. Durch die Informationsbereitstellung wird ihre Wahrnehmung korrigiert. Wie wirkt sich diese Korrektur auf die angegebenen Umverteilungspräferenzen aus?\n",
    "\n",
    "Hierzu beantworten Kontroll- und Behandlungsgruppe die folgende Frage"
   ]
  },
  {
   "cell_type": "markdown",
   "id": "2e3cc436-5c38-4bc3-b9c1-38f7fd413516",
   "metadata": {},
   "source": [
    "***\n",
    "> ***Wie viel wirtschaftliche Umverteilung wollen Sie in der Gesellschaft?***\n",
    "\n",
    "*(1) Keine Umverteilung. Das bedeutet, dass der Staat die Einkommensverteilung überhaupt nicht beeinflusst.* \n",
    "\n",
    "*(10) Volle Umverteilung. Das bedeutet, dass jeder nach Abzug von Steuern und Subventionen den gleichen Betrag verdient.*\n"
   ]
  },
  {
   "cell_type": "code",
   "execution_count": 13,
   "id": "25f23276-e18e-489e-ac47-34522915918b",
   "metadata": {},
   "outputs": [
    {
     "data": {
      "application/vnd.jupyter.widget-view+json": {
       "model_id": "8d408a912080491d9f311e7a78d850c0",
       "version_major": 2,
       "version_minor": 0
      },
      "text/plain": [
       "A Jupyter Widget"
      ]
     },
     "metadata": {},
     "output_type": "display_data"
    }
   ],
   "source": [
    "scale_P = widgets.IntSlider(\n",
    "    value=5,\n",
    "    min=1,\n",
    "    max=10,\n",
    "    step=1,\n",
    "    description='Skala',\n",
    "    disabled=False,\n",
    "    continuous_update=False,\n",
    "    orientation='horizontal',\n",
    "    readout=True,\n",
    "    readout_format='d'\n",
    ")\n",
    "\n",
    "display(scale_P)"
   ]
  },
  {
   "cell_type": "markdown",
   "id": "7fe9f8a8-cb21-4448-a848-902426d3a9f7",
   "metadata": {},
   "source": [
    "***\n",
    "Anschließend werden die Antworten der Befragten zu einem Indikator ($Against-Redist$) aggregiert. Dieser Indikator zeigt an, ob der Befragte eine hohe oder eine geringe Umverteilungspräferenz hat. Befragte, die mit 1 bis 4 geantwortet haben, haben eine geringe Präferenz für Umverteilung ($Against-Redist = 1$) während Befragte, die mit 5 bis 10 geantwortet haben, eine hohe Präferenz für Umverteilung ($Against-Redist = 0$) haben. \n",
    "\n",
    "KMS schätzen nun die folgende Regressionsgleichung.\n",
    "\n",
    "$$ Against-Redist = \\alpha + \\color{red}{ \\beta_1 Treated \\times Neg. Bias} + \\beta_2 No. Bias + \\beta_3 Treated \\times No. Bias  + \\beta_4 Pos. Bias + \\beta_5 Treated \\times Pos. Bias + \\epsilon $$"
   ]
  },
  {
   "cell_type": "markdown",
   "id": "44a0fb64-0cbf-4626-bed9-d7e5d6f006eb",
   "metadata": {},
   "source": [
    "Im Folgenden wollen wir uns auf Befragte mit negativem Bias konzentrieren. Das sind Personen, die ihre Einkommensposition unterschätzt haben. Der Unterschied zwischen Kontroll- und Behandlungsgruppe in diesem Personenkreis wird mit $\\color{red}{ \\beta_1 Treated \\times Neg. Bias} $ gemessen. Die untenstehende Tabelle zeigt das Ergebnis der Regression."
   ]
  },
  {
   "cell_type": "code",
   "execution_count": 14,
   "id": "fc79a5e6-6cde-4a44-8017-b4f461dc3c59",
   "metadata": {},
   "outputs": [
    {
     "data": {
      "application/vnd.jupyter.widget-view+json": {
       "model_id": "4f05654032384f0491dc1d18b8b424c0",
       "version_major": 2,
       "version_minor": 0
      },
      "text/plain": [
       "A Jupyter Widget"
      ]
     },
     "metadata": {},
     "output_type": "display_data"
    }
   ],
   "source": [
    "file = builtins.open(\"Bilder/Table2.png\", \"rb\")\n",
    "image = file.read()\n",
    "bild_Table2 = widgets.Image(\n",
    "    value=image,\n",
    "    format='png',\n",
    "    width=222,\n",
    "    height=128,\n",
    "    )\n",
    "bild_Table2"
   ]
  },
  {
   "cell_type": "markdown",
   "id": "0a7f51ad-b4ee-44dc-8f4e-9a9b81cdb163",
   "metadata": {},
   "source": [
    "> **Welchen Effekt hat die Informationsbereitstellung (Treatment) auf die Umverteilungspräferenzen, d.h. auf die Wahrscheinlichkeit zur Gruppe $Against-Redist = 1$ zu gehören, von Personen mit negativiem Bias?**"
   ]
  },
  {
   "cell_type": "code",
   "execution_count": 15,
   "id": "f39c13a1-a79a-4940-8d9e-3431f60ce536",
   "metadata": {},
   "outputs": [],
   "source": [
    "opinion_Reg = widgets.RadioButtons(\n",
    "    options=['Ansteig um 8,1 Prozent','Anstieg um 8,1 Prozent Punkte','Rückgang um 0,081 Prozent', 'Kein Effekt erkennbar'],\n",
    "    value=None,\n",
    "    #description='Faktoren',\n",
    "    disabled=False\n",
    ")\n",
    "\n",
    "button_Reg = widgets.Button(\n",
    "    description='Auswertung',\n",
    "    disabled=False,\n",
    "    button_style='', # 'success', 'info', 'warning', 'danger' or ''\n",
    "    tooltip='Bitte klicken.',\n",
    "    #icon='check' # (FontAwesome names without the `fa-` prefix)\n",
    ")\n",
    "\n",
    "# define function\n",
    "def check(button_Reg):\n",
    "  if opinion_Reg.value == 'Anstieg um 8,1 Prozent Punkte':\n",
    "    button_Reg.button_style = 'success'\n",
    "    button_Reg.description = 'Richtig'\n",
    "  else:\n",
    "    button_Reg.button_style = 'danger'\n",
    "    button_Reg.description = 'Leider Falsch'\n",
    "\n",
    "# set function as on_click on button\n",
    "button_Reg.on_click(check)"
   ]
  },
  {
   "cell_type": "code",
   "execution_count": 16,
   "id": "60d0af12-27bc-4094-89e5-0d0b7f750ceb",
   "metadata": {},
   "outputs": [
    {
     "data": {
      "application/vnd.jupyter.widget-view+json": {
       "model_id": "513f754673bb439385248a665834300e",
       "version_major": 2,
       "version_minor": 0
      },
      "text/plain": [
       "A Jupyter Widget"
      ]
     },
     "metadata": {},
     "output_type": "display_data"
    },
    {
     "data": {
      "application/vnd.jupyter.widget-view+json": {
       "model_id": "e97bdbaafc9a404fbdc7cf779998b62a",
       "version_major": 2,
       "version_minor": 0
      },
      "text/plain": [
       "A Jupyter Widget"
      ]
     },
     "metadata": {},
     "output_type": "display_data"
    }
   ],
   "source": [
    "display(opinion_Reg)\n",
    "display(button_Reg)"
   ]
  },
  {
   "cell_type": "markdown",
   "id": "6bee6fce-5224-4b5f-9992-77f3e1483c60",
   "metadata": {},
   "source": [
    "Der Anteil an Personen mit negativem Bias, die ein geringes Maß an Umverteilung bevorzugen, beträgt in der Kontrollgruppe 35,6%. \n",
    "\n",
    "> **Um wieviel Prozent steigt dieser Anteil durch die Informationsbereitstellung?**"
   ]
  },
  {
   "cell_type": "code",
   "execution_count": 17,
   "id": "805a3679-ff17-4ea4-ba1e-f015d394a999",
   "metadata": {},
   "outputs": [],
   "source": [
    "text_Prozent = widgets.BoundedFloatText(\n",
    "    value=0.00,\n",
    "    min=0,\n",
    "    max=100.0,\n",
    "    step=0.01,\n",
    "    description='Prozent',\n",
    "    disabled=False\n",
    ")\n",
    "\n",
    "output_Prozent = widgets.Text(\n",
    "    value='',\n",
    "    disabled=True\n",
    ")\n",
    "\n",
    "button_Prozent = widgets.Button(\n",
    "    description='Auswertung',\n",
    "    disabled=False,\n",
    "    button_style='', # 'success', 'info', 'warning', 'danger' or ''\n",
    "    tooltip='Bitte klicken.',\n",
    "    #icon='check' # (FontAwesome names without the `fa-` prefix)\n",
    ")\n",
    "\n",
    "\n",
    "# define function\n",
    "def check(button_Prozent):\n",
    "  if text_Prozent.value == 22.75:\n",
    "    output_Prozent.value = ''\n",
    "    button_Prozent.button_style = 'success'\n",
    "    button_Prozent.description = 'Richtig!'\n",
    "  else:\n",
    "    output_Prozent.value = 'Berechnung: (35,6 + 8,1)/35,6 - 1'\n",
    "    button_Prozent.button_style = 'danger'\n",
    "    button_Prozent.description = 'Leider falsch.'\n",
    "\n",
    "# set function as on_click on button\n",
    "button_Prozent.on_click(check)"
   ]
  },
  {
   "cell_type": "code",
   "execution_count": 18,
   "id": "5999c1fb-7955-4fa5-8d7c-a8ab6ebd8c93",
   "metadata": {},
   "outputs": [
    {
     "data": {
      "application/vnd.jupyter.widget-view+json": {
       "model_id": "d79bc9d81fe44b639d70737703570b32",
       "version_major": 2,
       "version_minor": 0
      },
      "text/plain": [
       "A Jupyter Widget"
      ]
     },
     "metadata": {},
     "output_type": "display_data"
    }
   ],
   "source": [
    "# nebeneinander in Box anzeigen\n",
    "items = [text_Prozent, button_Prozent, output_Prozent]\n",
    "box_Armut = Box(children=items)\n",
    "display(box_Armut) # <- this one command displays all children"
   ]
  },
  {
   "cell_type": "markdown",
   "id": "99243c1b-9b4a-466e-b3c4-b2904e5b2a38",
   "metadata": {},
   "source": [
    "# <span style=\"font-family:Century Gothic;color:DarkCyan\">Aufgabe 3</span>"
   ]
  },
  {
   "cell_type": "markdown",
   "id": "00fa0c6c-f6cd-4f27-a535-2388ad1e771f",
   "metadata": {},
   "source": [
    "### <span style=\"font-family:Century Gothic;color:DarkCyan\">Aufgabe 3.2: Equity-Efficiency Trade-Off</span>\n",
    "\n",
    "Umverteilung kann zu Effizienzverlusten führen. Steuern und Transferzahlung verändern die Anreize für Individueen, am Arbeitsmarkt teilzunehmen. Es kommt somit zu einem Zielkonflikt zwischen Verteilung und Effizienz (equity-efficiency trade-off). <a href=\"https://scholar.harvard.edu/files/stantcheva/files/stantcheva_understanding_taxes_qje.pdf\">Stantcheva (2021)</a> verdeutlicht diesen Zielkonflikt in einem Video.\n",
    "\n",
    "> **Schauen Sie das unten eingeblendete <a href=\"https://www.youtube.com/embed/e3NBmrzEmUQ\">Video</a>.**"
   ]
  },
  {
   "cell_type": "code",
   "execution_count": 19,
   "id": "7e26cb63-6681-4f91-8f8b-79d9cf093c75",
   "metadata": {},
   "outputs": [
    {
     "name": "stderr",
     "output_type": "stream",
     "text": [
      "c:\\users\\jwalter\\appdata\\local\\programs\\python\\python37\\lib\\site-packages\\IPython\\core\\display.py:724: UserWarning: Consider using IPython.display.IFrame instead\n",
      "  warnings.warn(\"Consider using IPython.display.IFrame instead\")\n"
     ]
    },
    {
     "data": {
      "text/html": [
       "<iframe width=\"560\" height=\"315\" src=\"https://www.youtube.com/embed/e3NBmrzEmUQ\" title=\"YouTube video player\" frameborder=\"0\" allow=\"accelerometer; autoplay; clipboard-write; encrypted-media; gyroscope; picture-in-picture; web-share\" allowfullscreen></iframe>"
      ],
      "text/plain": [
       "<IPython.core.display.HTML object>"
      ]
     },
     "execution_count": 19,
     "metadata": {},
     "output_type": "execute_result"
    }
   ],
   "source": [
    "HTML('<iframe width=\"560\" height=\"315\" src=\"https://www.youtube.com/embed/e3NBmrzEmUQ\" title=\"YouTube video player\" frameborder=\"0\" allow=\"accelerometer; autoplay; clipboard-write; encrypted-media; gyroscope; picture-in-picture; web-share\" allowfullscreen></iframe>')\n",
    "\n",
    "#display(IFrame('https://www.youtube.com/embed/e3NBmrzEmUQ', '100%', '900px'))"
   ]
  },
  {
   "cell_type": "markdown",
   "id": "91cbcb46-19a2-4686-8b46-e7b95d952171",
   "metadata": {
    "tags": []
   },
   "source": [
    "### <span style=\"font-family:Century Gothic;color:DarkCyan\">Aufgabe 3.2: Konsum-Freizeit-Modell</span>\n",
    "\n",
    "Im Video wird unter anderem die Arbeitsangebotsentscheidung des US-Amerikaners John beschrieben. Wir betrachten diese Arbeitsangebotsentscheidung nun im Konsum-Freizeit-Modell."
   ]
  },
  {
   "cell_type": "markdown",
   "id": "b8da2612-7b31-4064-a36f-9af842aa0adf",
   "metadata": {},
   "source": [
    "John bezieht Nutzen aus Konsum $x$ und Freizeit $F$ und besitzt die Nutzenfunktion $U(x,F)$. Er teilt die gesamte ihm zur Verfügung stehende Zeit $\\overline{F}$ zwischen Freizeit und Arbeit ($l=\\overline{F}-F$) auf. Für jede angebotene Arbeitsstunde erhält er den Lohnsatz $w$ während ihn eine Einheit Konsum den Preis $p$ kostet. John gibt sein gesamtes Einkommen für Konsum aus woraus sich die folgende Budgetbeschränkung ergibt.\n",
    "\n",
    "$$ p \\cdot x = (\\overline{F}-F) \\cdot w $$\n",
    "\n",
    "Gehen Sie im Folgenden davon aus, dass John über ein maximales Zeitbudget von $\\overline{F}=100$ verfügt und für jede Arbeitsstunde den Lohn $w=1$ erhält. Eine Einheit Konsum kostet John $p=1$. \n",
    "\n",
    "> **Skizzieren Sie die oben beschriebene <span style=\"color:DarkCyan\">Situation ohne Steuern</span> in untenstehendem Diagramm. Verifizieren Sie im Anschluss ihr Ergebnis indem Sie <span style=\"color:DarkCyan\">Slider A</span> nach rechts schieben.**"
   ]
  },
  {
   "cell_type": "code",
   "execution_count": 20,
   "id": "524ffff1-4ca6-4b62-9844-01864df8e136",
   "metadata": {},
   "outputs": [
    {
     "data": {
      "application/vnd.jupyter.widget-view+json": {
       "model_id": "f946efe71c324581821f1f4c9c319092",
       "version_major": 2,
       "version_minor": 0
      },
      "text/plain": [
       "A Jupyter Widget"
      ]
     },
     "metadata": {},
     "output_type": "display_data"
    }
   ],
   "source": [
    "%matplotlib inline\n",
    "\n",
    "def f(A,B):\n",
    "    plt.figure(2)\n",
    "    x = np.linspace(1, 100, num=100)\n",
    "    # Funktionen ohne Steuern\n",
    "    plt.plot(x,A*100-x,color=\"Darkcyan\")\n",
    "    plt.plot(x,A*3*380*x**(-0.5)-106,color=\"Darkcyan\")\n",
    "    # Optimum ohne Steuern\n",
    "    plt.scatter(A*70.5,A*30,color=\"Darkcyan\")\n",
    "    plt.vlines(A*70.5, 0, 30,colors='k',linestyles='dotted',color=\"Darkcyan\", alpha=0.5)\n",
    "    plt.hlines(A*30,0,70.5,colors='k',linestyles='dotted',color=\"Darkcyan\", alpha=0.5)\n",
    "    # Funktionen mit Steuern\n",
    "    plt.plot(x,B*100*(1-0.25)-(1-0.25)*x,color=\"maroon\")\n",
    "    plt.plot(x,B*3*380*x**(-0.5)-112,color=\"maroon\")    \n",
    "    # Optimum mit Steuern\n",
    "    plt.scatter(B*80,B*15,color=\"maroon\")\n",
    "    plt.vlines(B*80, 0, B*15,colors='k',linestyles='dotted',color=\"maroon\", alpha=0.5)\n",
    "    plt.hlines(B*15,0,B*80,colors='k',linestyles='dotted',color=\"maroon\", alpha=0.5)\n",
    "    # Settings\n",
    "    plt.ylim(0, 100)\n",
    "    plt.xlabel(\"Freizeit $F$\")\n",
    "    plt.margins(x=0)\n",
    "    plt.ylabel(\"Konsum $x$\")    \n",
    "    plt.show()\n",
    "    \n",
    "    \n",
    "interactive_plot = interactive(f, A=(0, 1,1), B=(0, 1,1))\n",
    "output = interactive_plot.children[-1]\n",
    "interactive_plot\n",
    "\n"
   ]
  },
  {
   "cell_type": "markdown",
   "id": "e4c09bb3-68f1-4e02-9f6e-79fc571916b2",
   "metadata": {},
   "source": [
    "### <span style=\"font-family:Century Gothic;color:DarkCyan\">Aufgabe 3.3: Konsum-Freizeit-Modell mit Besteuerung</span>"
   ]
  },
  {
   "cell_type": "code",
   "execution_count": 21,
   "id": "948ec006-7ebc-4e26-8150-76a7e5dfb7eb",
   "metadata": {},
   "outputs": [
    {
     "data": {
      "application/vnd.jupyter.widget-view+json": {
       "model_id": "6da31ee7319946798ea3675a3d5efa6d",
       "version_major": 2,
       "version_minor": 0
      },
      "text/plain": [
       "A Jupyter Widget"
      ]
     },
     "metadata": {},
     "output_type": "display_data"
    }
   ],
   "source": [
    "file = builtins.open(\"Bilder/Biden.jpg\", \"rb\")\n",
    "image = file.read()\n",
    "bild_Biden = widgets.Image(\n",
    "    value=image,\n",
    "    format='png',\n",
    "    width=650,\n",
    "    #height=90,\n",
    "    )\n",
    "bild_Biden"
   ]
  },
  {
   "cell_type": "markdown",
   "id": "0c7ba2aa-08d3-47d5-8583-523fb2ee5661",
   "metadata": {},
   "source": [
    "<a href=\"https://www.nytimes.com/2021/04/22/business/economy/biden-taxes.html\">Quelle: New York Times (22.04.2022)</a>\n",
    "\n",
    "Nach der Wahl beschließt die neue Regierung, eine Steuer $t$ in Höhe von 25% auf Lohneinkommen einzuführen. \n",
    "\n",
    "> **Stellen Sie die neue Budgetgerade auf. Wie lautet die Steigung der neuen Budgetgeraden und wie der Schnittpunkt mit der Ordinate?**"
   ]
  },
  {
   "cell_type": "code",
   "execution_count": 22,
   "id": "626550b9-b90e-479c-bed7-ba67f62e8f2d",
   "metadata": {},
   "outputs": [
    {
     "data": {
      "application/vnd.jupyter.widget-view+json": {
       "model_id": "14c07752648a4b108e3594d639aa905b",
       "version_major": 2,
       "version_minor": 0
      },
      "text/plain": [
       "A Jupyter Widget"
      ]
     },
     "metadata": {},
     "output_type": "display_data"
    }
   ],
   "source": [
    "accordion = widgets.Accordion([\n",
    "    widgets.Label(\n",
    "        value=\"$$  p \\cdot x = (\\overline{F}-F) \\cdot w \\cdot (1-t) $$\",\n",
    "        placeholder='Some LaTeX',\n",
    "        description='Some LaTeX',\n",
    "        disabled=False\n",
    "    ),\n",
    "    widgets.Label(\n",
    "        value=\"$$ x = \\\\frac{(\\overline{F}-F) \\cdot w (1-t)}{p} = \\\\frac{w(1-t)}{p} \\cdot \\overline{F} - \\\\frac{w (1-t)}{p} \\cdot F $$\",\n",
    "        placeholder='Some LaTeX',\n",
    "        description='Some LaTeX',\n",
    "        disabled=False\n",
    "    ),\n",
    "    widgets.Label(\n",
    "        value=\"Steigung $$- \\\\frac{w (1-t)}{p} $$ Achsenabschnitt Ordinate $$ \\\\frac{w(1-t)}{p} \\cdot \\overline{F} $$\",\n",
    "        placeholder='Some LaTeX',\n",
    "        description='Some LaTeX',\n",
    "        disabled=False\n",
    "    )], selected_index=None)\n",
    "accordion.set_title(0, 'Budgetrestriktion')\n",
    "accordion.set_title(1, 'Funktionsgleichung')\n",
    "accordion.set_title(2, 'Steigung und Achsenabschnitt Ordinate')\n",
    "\n",
    "accordion"
   ]
  },
  {
   "cell_type": "markdown",
   "id": "044ac656-cd32-4cac-88f9-b23df4ad6dbb",
   "metadata": {},
   "source": [
    "> **Skizzieren Sie die <span style=\"color:maroon\">Situation mit Steuern</span> in obigem Diagramm. Verifizieren Sie im Anschluss ihr Ergebnis indem Sie <span style=\"color:maroon\">Slider B</span>** (oberhalb des Diagramms) **nach rechts schieben.**\n",
    "\n",
    "> **Welchen Effekt hat die Einführung der Steuer auf das Arbeitsangebot von John?**"
   ]
  },
  {
   "cell_type": "code",
   "execution_count": 23,
   "id": "cb80e015-f88a-43f1-abf8-2a5d22cba764",
   "metadata": {},
   "outputs": [
    {
     "data": {
      "application/vnd.jupyter.widget-view+json": {
       "model_id": "de3cb09f0b1042cc908d9d3f1a6688cd",
       "version_major": 2,
       "version_minor": 0
      },
      "text/plain": [
       "A Jupyter Widget"
      ]
     },
     "metadata": {},
     "output_type": "display_data"
    }
   ],
   "source": [
    "opinion_john = widgets.RadioButtons(\n",
    "    options=['John arbeitet mehr.','John arbeitet weniger.'],\n",
    "    value=None,\n",
    "    description='',\n",
    "    disabled=False,\n",
    ")\n",
    "\n",
    "button_john = widgets.Button(\n",
    "    description='Auswertung',\n",
    "    disabled=False,\n",
    "    button_style='', # 'success', 'info', 'warning', 'danger' or ''\n",
    "    tooltip='Bitte klicken.',\n",
    "    #icon='check' # (FontAwesome names without the `fa-` prefix)\n",
    ")\n",
    "\n",
    "\n",
    "# define function\n",
    "def check(button_instance):\n",
    "  if opinion_john.value == 'John arbeitet weniger.':\n",
    "    button_john.button_style = 'success'\n",
    "    button_john.description = 'Richtig!'\n",
    "  else:\n",
    "    button_john.button_style = 'danger'\n",
    "    button_john.description = 'Leider falsch.'\n",
    "\n",
    "# set function as on_click on button\n",
    "button_john.on_click(check)\n",
    "\n",
    "items = [opinion_john, button_john]\n",
    "box_john = Box(children=items)\n",
    "display(box_john) # <- this one command displays all children"
   ]
  }
 ],
 "metadata": {
  "kernelspec": {
   "display_name": "Python 3 (ipykernel)",
   "language": "python",
   "name": "python3"
  },
  "language_info": {
   "codemirror_mode": {
    "name": "ipython",
    "version": 3
   },
   "file_extension": ".py",
   "mimetype": "text/x-python",
   "name": "python",
   "nbconvert_exporter": "python",
   "pygments_lexer": "ipython3",
   "version": "3.7.3"
  }
 },
 "nbformat": 4,
 "nbformat_minor": 5
}
